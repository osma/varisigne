{
  "nbformat": 4,
  "nbformat_minor": 0,
  "metadata": {
    "accelerator": "GPU",
    "colab": {
      "name": "SigneBranderImageHashingColorizer.ipynb",
      "provenance": [],
      "collapsed_sections": [],
      "toc_visible": true
    },
    "kernelspec": {
      "display_name": "Python 3",
      "language": "python",
      "name": "python3"
    },
    "language_info": {
      "codemirror_mode": {
        "name": "ipython",
        "version": 3
      },
      "file_extension": ".py",
      "mimetype": "text/x-python",
      "name": "python",
      "nbconvert_exporter": "python",
      "pygments_lexer": "ipython3",
      "version": "3.7.0"
    }
  },
  "cells": [
    {
      "cell_type": "markdown",
      "metadata": {
        "colab_type": "text",
        "id": "663IVxfrpIAb"
      },
      "source": [
        "#◢ DeOldify - Colorize your own photos!\n",
        "\n",
        "####**Credits:**\n",
        "\n",
        "Special thanks to:\n",
        "\n",
        "Matt Robinson and María Benavente for pioneering the DeOldify image colab notebook.  \n",
        "\n",
        "Dana Kelley for doing things, breaking stuff & having an opinion on everything."
      ]
    },
    {
      "cell_type": "markdown",
      "metadata": {
        "colab_type": "text",
        "id": "ZjPqTBNoohK9"
      },
      "source": [
        "\n",
        "\n",
        "---\n",
        "\n",
        "\n",
        "#◢ Verify Correct Runtime Settings\n",
        "\n",
        "**<font color='#FF000'> IMPORTANT </font>**\n",
        "\n",
        "In the \"Runtime\" menu for the notebook window, select \"Change runtime type.\" Ensure that the following are selected:\n",
        "* Runtime Type = Python 3\n",
        "* Hardware Accelerator = GPU \n"
      ]
    },
    {
      "cell_type": "code",
      "metadata": {
        "id": "ed4Yn3pmGfBF",
        "colab_type": "code",
        "outputId": "6e760b4a-6434-473c-bd6f-32118be3a933",
        "colab": {
          "base_uri": "https://localhost:8080/",
          "height": 124
        }
      },
      "source": [
        "from google.colab import drive\n",
        "drive.mount('/content/gdrive')"
      ],
      "execution_count": 1,
      "outputs": [
        {
          "output_type": "stream",
          "text": [
            "Go to this URL in a browser: https://accounts.google.com/o/oauth2/auth?client_id=947318989803-6bn6qk8qdgf4n4g3pfee6491hc0brc4i.apps.googleusercontent.com&redirect_uri=urn%3aietf%3awg%3aoauth%3a2.0%3aoob&response_type=code&scope=email%20https%3a%2f%2fwww.googleapis.com%2fauth%2fdocs.test%20https%3a%2f%2fwww.googleapis.com%2fauth%2fdrive%20https%3a%2f%2fwww.googleapis.com%2fauth%2fdrive.photos.readonly%20https%3a%2f%2fwww.googleapis.com%2fauth%2fpeopleapi.readonly\n",
            "\n",
            "Enter your authorization code:\n",
            "··········\n",
            "Mounted at /content/gdrive\n"
          ],
          "name": "stdout"
        }
      ]
    },
    {
      "cell_type": "code",
      "metadata": {
        "colab_type": "code",
        "id": "00_GcC_trpdE",
        "colab": {}
      },
      "source": [
        "import torch\n",
        "\n",
        "if not torch.cuda.is_available():\n",
        "    print('GPU not available.')"
      ],
      "execution_count": 0,
      "outputs": []
    },
    {
      "cell_type": "markdown",
      "metadata": {
        "colab_type": "text",
        "id": "gaEJBGDlptEo"
      },
      "source": [
        "#◢ Git clone and install DeOldify"
      ]
    },
    {
      "cell_type": "code",
      "metadata": {
        "colab_type": "code",
        "id": "-T-svuHytJ-8",
        "outputId": "e4111d27-1f0b-4ef7-b15c-6d84b5d8f4c6",
        "colab": {
          "base_uri": "https://localhost:8080/",
          "height": 104
        }
      },
      "source": [
        "!git clone https://github.com/jantic/DeOldify.git DeOldify "
      ],
      "execution_count": 3,
      "outputs": [
        {
          "output_type": "stream",
          "text": [
            "Cloning into 'DeOldify'...\n",
            "remote: Enumerating objects: 1940, done.\u001b[K\n",
            "remote: Total 1940 (delta 0), reused 0 (delta 0), pack-reused 1940\u001b[K\n",
            "Receiving objects: 100% (1940/1940), 69.28 MiB | 37.05 MiB/s, done.\n",
            "Resolving deltas: 100% (841/841), done.\n"
          ],
          "name": "stdout"
        }
      ]
    },
    {
      "cell_type": "code",
      "metadata": {
        "id": "tOtFJoCsGEVo",
        "colab_type": "code",
        "outputId": "263e8e1a-0fbd-4a1c-8b51-861d1f78d891",
        "colab": {
          "base_uri": "https://localhost:8080/",
          "height": 34
        }
      },
      "source": [
        "cd DeOldify"
      ],
      "execution_count": 4,
      "outputs": [
        {
          "output_type": "stream",
          "text": [
            "/content/DeOldify\n"
          ],
          "name": "stdout"
        }
      ]
    },
    {
      "cell_type": "markdown",
      "metadata": {
        "colab_type": "text",
        "id": "BDFjbNxaadNJ"
      },
      "source": [
        "#◢ Setup"
      ]
    },
    {
      "cell_type": "code",
      "metadata": {
        "colab_type": "code",
        "id": "Lsx7xCXNSVt6",
        "outputId": "2468785d-7862-436b-8100-b68fb274cce5",
        "colab": {
          "base_uri": "https://localhost:8080/",
          "height": 1000
        }
      },
      "source": [
        "!pip install -r colab_requirements.txt"
      ],
      "execution_count": 5,
      "outputs": [
        {
          "output_type": "stream",
          "text": [
            "Collecting fastai==1.0.51\n",
            "\u001b[?25l  Downloading https://files.pythonhosted.org/packages/44/cc/dcc702cf43bb8c908d172e5be156615928f962366a20834c320cbca2b9d0/fastai-1.0.51-py3-none-any.whl (214kB)\n",
            "\r\u001b[K     |█▌                              | 10kB 29.3MB/s eta 0:00:01\r\u001b[K     |███                             | 20kB 34.3MB/s eta 0:00:01\r\u001b[K     |████▋                           | 30kB 38.9MB/s eta 0:00:01\r\u001b[K     |██████▏                         | 40kB 24.0MB/s eta 0:00:01\r\u001b[K     |███████▋                        | 51kB 15.2MB/s eta 0:00:01\r\u001b[K     |█████████▏                      | 61kB 17.6MB/s eta 0:00:01\r\u001b[K     |██████████▊                     | 71kB 17.2MB/s eta 0:00:01\r\u001b[K     |████████████▎                   | 81kB 15.0MB/s eta 0:00:01\r\u001b[K     |█████████████▉                  | 92kB 16.5MB/s eta 0:00:01\r\u001b[K     |███████████████▎                | 102kB 16.5MB/s eta 0:00:01\r\u001b[K     |████████████████▉               | 112kB 16.5MB/s eta 0:00:01\r\u001b[K     |██████████████████▍             | 122kB 16.5MB/s eta 0:00:01\r\u001b[K     |████████████████████            | 133kB 16.5MB/s eta 0:00:01\r\u001b[K     |█████████████████████▍          | 143kB 16.5MB/s eta 0:00:01\r\u001b[K     |███████████████████████         | 153kB 16.5MB/s eta 0:00:01\r\u001b[K     |████████████████████████▌       | 163kB 16.5MB/s eta 0:00:01\r\u001b[K     |██████████████████████████      | 174kB 16.5MB/s eta 0:00:01\r\u001b[K     |███████████████████████████▋    | 184kB 16.5MB/s eta 0:00:01\r\u001b[K     |█████████████████████████████   | 194kB 16.5MB/s eta 0:00:01\r\u001b[K     |██████████████████████████████▋ | 204kB 16.5MB/s eta 0:00:01\r\u001b[K     |████████████████████████████████| 215kB 16.5MB/s \n",
            "\u001b[?25hCollecting tensorboardX==1.6\n",
            "\u001b[?25l  Downloading https://files.pythonhosted.org/packages/5c/76/89dd44458eb976347e5a6e75eb79fecf8facd46c1ce259bad54e0044ea35/tensorboardX-1.6-py2.py3-none-any.whl (129kB)\n",
            "\r\u001b[K     |██▌                             | 10kB 31.1MB/s eta 0:00:01\r\u001b[K     |█████                           | 20kB 41.2MB/s eta 0:00:01\r\u001b[K     |███████▋                        | 30kB 44.0MB/s eta 0:00:01\r\u001b[K     |██████████▏                     | 40kB 46.8MB/s eta 0:00:01\r\u001b[K     |████████████▋                   | 51kB 35.1MB/s eta 0:00:01\r\u001b[K     |███████████████▏                | 61kB 38.4MB/s eta 0:00:01\r\u001b[K     |█████████████████▊              | 71kB 32.7MB/s eta 0:00:01\r\u001b[K     |████████████████████▎           | 81kB 29.5MB/s eta 0:00:01\r\u001b[K     |██████████████████████▉         | 92kB 31.5MB/s eta 0:00:01\r\u001b[K     |█████████████████████████▎      | 102kB 30.5MB/s eta 0:00:01\r\u001b[K     |███████████████████████████▉    | 112kB 30.5MB/s eta 0:00:01\r\u001b[K     |██████████████████████████████▍ | 122kB 30.5MB/s eta 0:00:01\r\u001b[K     |████████████████████████████████| 133kB 30.5MB/s \n",
            "\u001b[?25hCollecting ffmpeg\n",
            "  Downloading https://files.pythonhosted.org/packages/f0/cc/3b7408b8ecf7c1d20ad480c3eaed7619857bf1054b690226e906fdf14258/ffmpeg-1.4.tar.gz\n",
            "Collecting ffmpeg-python==0.1.17\n",
            "  Downloading https://files.pythonhosted.org/packages/3d/10/330cbc8e63d072d40413f4d470444a6a1e8c8c6a80b2a4ac302d1252ca1b/ffmpeg_python-0.1.17-py3-none-any.whl\n",
            "Collecting youtube-dl>=2019.4.17\n",
            "\u001b[?25l  Downloading https://files.pythonhosted.org/packages/ec/4c/4aa3a86dc43623b9d5a4b0df2915908413703adc1899965c4b2e00bb8a4d/youtube_dl-2020.1.1-py2.py3-none-any.whl (1.8MB)\n",
            "\u001b[K     |████████████████████████████████| 1.8MB 42.9MB/s \n",
            "\u001b[?25hCollecting jupyterlab\n",
            "\u001b[?25l  Downloading https://files.pythonhosted.org/packages/35/9a/6e81535ed42ad01ec2a5e8f9e0419108f60fab36e48dc1168fa5e0576a81/jupyterlab-1.2.4-py2.py3-none-any.whl (6.4MB)\n",
            "\u001b[K     |████████████████████████████████| 6.4MB 55.4MB/s \n",
            "\u001b[?25hRequirement already satisfied: opencv-python>=3.3.0.10 in /usr/local/lib/python3.6/dist-packages (from -r colab_requirements.txt (line 7)) (4.1.2.30)\n",
            "Requirement already satisfied: pillow in /usr/local/lib/python3.6/dist-packages (from -r colab_requirements.txt (line 8)) (4.3.0)\n",
            "Requirement already satisfied: torch>=1.0.0 in /usr/local/lib/python3.6/dist-packages (from fastai==1.0.51->-r colab_requirements.txt (line 1)) (1.3.1)\n",
            "Requirement already satisfied: numexpr in /usr/local/lib/python3.6/dist-packages (from fastai==1.0.51->-r colab_requirements.txt (line 1)) (2.7.0)\n",
            "Requirement already satisfied: nvidia-ml-py3 in /usr/local/lib/python3.6/dist-packages (from fastai==1.0.51->-r colab_requirements.txt (line 1)) (7.352.0)\n",
            "Requirement already satisfied: numpy>=1.15 in /usr/local/lib/python3.6/dist-packages (from fastai==1.0.51->-r colab_requirements.txt (line 1)) (1.17.4)\n",
            "Requirement already satisfied: requests in /usr/local/lib/python3.6/dist-packages (from fastai==1.0.51->-r colab_requirements.txt (line 1)) (2.21.0)\n",
            "Requirement already satisfied: torchvision in /usr/local/lib/python3.6/dist-packages (from fastai==1.0.51->-r colab_requirements.txt (line 1)) (0.4.2)\n",
            "Requirement already satisfied: scipy in /usr/local/lib/python3.6/dist-packages (from fastai==1.0.51->-r colab_requirements.txt (line 1)) (1.3.3)\n",
            "Requirement already satisfied: matplotlib in /usr/local/lib/python3.6/dist-packages (from fastai==1.0.51->-r colab_requirements.txt (line 1)) (3.1.2)\n",
            "Requirement already satisfied: typing in /usr/local/lib/python3.6/dist-packages (from fastai==1.0.51->-r colab_requirements.txt (line 1)) (3.6.6)\n",
            "Requirement already satisfied: bottleneck in /usr/local/lib/python3.6/dist-packages (from fastai==1.0.51->-r colab_requirements.txt (line 1)) (1.3.1)\n",
            "Requirement already satisfied: packaging in /usr/local/lib/python3.6/dist-packages (from fastai==1.0.51->-r colab_requirements.txt (line 1)) (19.2)\n",
            "Requirement already satisfied: beautifulsoup4 in /usr/local/lib/python3.6/dist-packages (from fastai==1.0.51->-r colab_requirements.txt (line 1)) (4.6.3)\n",
            "Requirement already satisfied: fastprogress>=0.1.19 in /usr/local/lib/python3.6/dist-packages (from fastai==1.0.51->-r colab_requirements.txt (line 1)) (0.1.22)\n",
            "Requirement already satisfied: pyyaml in /usr/local/lib/python3.6/dist-packages (from fastai==1.0.51->-r colab_requirements.txt (line 1)) (3.13)\n",
            "Requirement already satisfied: spacy>=2.0.18 in /usr/local/lib/python3.6/dist-packages (from fastai==1.0.51->-r colab_requirements.txt (line 1)) (2.1.9)\n",
            "Requirement already satisfied: dataclasses; python_version < \"3.7\" in /usr/local/lib/python3.6/dist-packages (from fastai==1.0.51->-r colab_requirements.txt (line 1)) (0.7)\n",
            "Requirement already satisfied: pandas in /usr/local/lib/python3.6/dist-packages (from fastai==1.0.51->-r colab_requirements.txt (line 1)) (0.25.3)\n",
            "Requirement already satisfied: six in /usr/local/lib/python3.6/dist-packages (from tensorboardX==1.6->-r colab_requirements.txt (line 2)) (1.12.0)\n",
            "Requirement already satisfied: protobuf>=3.2.0 in /usr/local/lib/python3.6/dist-packages (from tensorboardX==1.6->-r colab_requirements.txt (line 2)) (3.10.0)\n",
            "Requirement already satisfied: future in /usr/local/lib/python3.6/dist-packages (from ffmpeg-python==0.1.17->-r colab_requirements.txt (line 4)) (0.16.0)\n",
            "Requirement already satisfied: notebook>=4.3.1 in /usr/local/lib/python3.6/dist-packages (from jupyterlab->-r colab_requirements.txt (line 6)) (5.2.2)\n",
            "Requirement already satisfied: jinja2>=2.10 in /usr/local/lib/python3.6/dist-packages (from jupyterlab->-r colab_requirements.txt (line 6)) (2.10.3)\n",
            "Requirement already satisfied: tornado!=6.0.0,!=6.0.1,!=6.0.2 in /usr/local/lib/python3.6/dist-packages (from jupyterlab->-r colab_requirements.txt (line 6)) (4.5.3)\n",
            "Collecting jupyterlab-server~=1.0.0\n",
            "  Downloading https://files.pythonhosted.org/packages/78/98/5b87b9d38176bd98f23b58a8fb730e5124618d68571a011abbd38ad4a842/jupyterlab_server-1.0.6-py3-none-any.whl\n",
            "Requirement already satisfied: olefile in /usr/local/lib/python3.6/dist-packages (from pillow->-r colab_requirements.txt (line 8)) (0.46)\n",
            "Requirement already satisfied: chardet<3.1.0,>=3.0.2 in /usr/local/lib/python3.6/dist-packages (from requests->fastai==1.0.51->-r colab_requirements.txt (line 1)) (3.0.4)\n",
            "Requirement already satisfied: idna<2.9,>=2.5 in /usr/local/lib/python3.6/dist-packages (from requests->fastai==1.0.51->-r colab_requirements.txt (line 1)) (2.8)\n",
            "Requirement already satisfied: urllib3<1.25,>=1.21.1 in /usr/local/lib/python3.6/dist-packages (from requests->fastai==1.0.51->-r colab_requirements.txt (line 1)) (1.24.3)\n",
            "Requirement already satisfied: certifi>=2017.4.17 in /usr/local/lib/python3.6/dist-packages (from requests->fastai==1.0.51->-r colab_requirements.txt (line 1)) (2019.11.28)\n",
            "Requirement already satisfied: python-dateutil>=2.1 in /usr/local/lib/python3.6/dist-packages (from matplotlib->fastai==1.0.51->-r colab_requirements.txt (line 1)) (2.6.1)\n",
            "Requirement already satisfied: cycler>=0.10 in /usr/local/lib/python3.6/dist-packages (from matplotlib->fastai==1.0.51->-r colab_requirements.txt (line 1)) (0.10.0)\n",
            "Requirement already satisfied: kiwisolver>=1.0.1 in /usr/local/lib/python3.6/dist-packages (from matplotlib->fastai==1.0.51->-r colab_requirements.txt (line 1)) (1.1.0)\n",
            "Requirement already satisfied: pyparsing!=2.0.4,!=2.1.2,!=2.1.6,>=2.0.1 in /usr/local/lib/python3.6/dist-packages (from matplotlib->fastai==1.0.51->-r colab_requirements.txt (line 1)) (2.4.5)\n",
            "Requirement already satisfied: srsly<1.1.0,>=0.0.6 in /usr/local/lib/python3.6/dist-packages (from spacy>=2.0.18->fastai==1.0.51->-r colab_requirements.txt (line 1)) (0.2.0)\n",
            "Requirement already satisfied: wasabi<1.1.0,>=0.2.0 in /usr/local/lib/python3.6/dist-packages (from spacy>=2.0.18->fastai==1.0.51->-r colab_requirements.txt (line 1)) (0.4.2)\n",
            "Requirement already satisfied: preshed<2.1.0,>=2.0.1 in /usr/local/lib/python3.6/dist-packages (from spacy>=2.0.18->fastai==1.0.51->-r colab_requirements.txt (line 1)) (2.0.1)\n",
            "Requirement already satisfied: cymem<2.1.0,>=2.0.2 in /usr/local/lib/python3.6/dist-packages (from spacy>=2.0.18->fastai==1.0.51->-r colab_requirements.txt (line 1)) (2.0.3)\n",
            "Requirement already satisfied: blis<0.3.0,>=0.2.2 in /usr/local/lib/python3.6/dist-packages (from spacy>=2.0.18->fastai==1.0.51->-r colab_requirements.txt (line 1)) (0.2.4)\n",
            "Requirement already satisfied: plac<1.0.0,>=0.9.6 in /usr/local/lib/python3.6/dist-packages (from spacy>=2.0.18->fastai==1.0.51->-r colab_requirements.txt (line 1)) (0.9.6)\n",
            "Requirement already satisfied: thinc<7.1.0,>=7.0.8 in /usr/local/lib/python3.6/dist-packages (from spacy>=2.0.18->fastai==1.0.51->-r colab_requirements.txt (line 1)) (7.0.8)\n",
            "Requirement already satisfied: murmurhash<1.1.0,>=0.28.0 in /usr/local/lib/python3.6/dist-packages (from spacy>=2.0.18->fastai==1.0.51->-r colab_requirements.txt (line 1)) (1.0.2)\n",
            "Requirement already satisfied: pytz>=2017.2 in /usr/local/lib/python3.6/dist-packages (from pandas->fastai==1.0.51->-r colab_requirements.txt (line 1)) (2018.9)\n",
            "Requirement already satisfied: setuptools in /usr/local/lib/python3.6/dist-packages (from protobuf>=3.2.0->tensorboardX==1.6->-r colab_requirements.txt (line 2)) (42.0.2)\n",
            "Requirement already satisfied: terminado>=0.3.3; sys_platform != \"win32\" in /usr/local/lib/python3.6/dist-packages (from notebook>=4.3.1->jupyterlab->-r colab_requirements.txt (line 6)) (0.8.3)\n",
            "Requirement already satisfied: ipykernel in /usr/local/lib/python3.6/dist-packages (from notebook>=4.3.1->jupyterlab->-r colab_requirements.txt (line 6)) (4.6.1)\n",
            "Requirement already satisfied: ipython-genutils in /usr/local/lib/python3.6/dist-packages (from notebook>=4.3.1->jupyterlab->-r colab_requirements.txt (line 6)) (0.2.0)\n",
            "Requirement already satisfied: nbformat in /usr/local/lib/python3.6/dist-packages (from notebook>=4.3.1->jupyterlab->-r colab_requirements.txt (line 6)) (4.4.0)\n",
            "Requirement already satisfied: jupyter-client in /usr/local/lib/python3.6/dist-packages (from notebook>=4.3.1->jupyterlab->-r colab_requirements.txt (line 6)) (5.3.4)\n",
            "Requirement already satisfied: traitlets>=4.2.1 in /usr/local/lib/python3.6/dist-packages (from notebook>=4.3.1->jupyterlab->-r colab_requirements.txt (line 6)) (4.3.3)\n",
            "Requirement already satisfied: jupyter-core in /usr/local/lib/python3.6/dist-packages (from notebook>=4.3.1->jupyterlab->-r colab_requirements.txt (line 6)) (4.6.1)\n",
            "Requirement already satisfied: nbconvert in /usr/local/lib/python3.6/dist-packages (from notebook>=4.3.1->jupyterlab->-r colab_requirements.txt (line 6)) (5.6.1)\n",
            "Requirement already satisfied: MarkupSafe>=0.23 in /usr/local/lib/python3.6/dist-packages (from jinja2>=2.10->jupyterlab->-r colab_requirements.txt (line 6)) (1.1.1)\n",
            "Collecting jsonschema>=3.0.1\n",
            "\u001b[?25l  Downloading https://files.pythonhosted.org/packages/c5/8f/51e89ce52a085483359217bc72cdbf6e75ee595d5b1d4b5ade40c7e018b8/jsonschema-3.2.0-py2.py3-none-any.whl (56kB)\n",
            "\u001b[K     |████████████████████████████████| 61kB 7.1MB/s \n",
            "\u001b[?25hCollecting json5\n",
            "  Downloading https://files.pythonhosted.org/packages/30/44/062543d4a6718f99d82e5ecf9140dbdee8a03122f2c34fbd0b0609891707/json5-0.8.5-py2.py3-none-any.whl\n",
            "Requirement already satisfied: tqdm<5.0.0,>=4.10.0 in /usr/local/lib/python3.6/dist-packages (from thinc<7.1.0,>=7.0.8->spacy>=2.0.18->fastai==1.0.51->-r colab_requirements.txt (line 1)) (4.28.1)\n",
            "Requirement already satisfied: ptyprocess; os_name != \"nt\" in /usr/local/lib/python3.6/dist-packages (from terminado>=0.3.3; sys_platform != \"win32\"->notebook>=4.3.1->jupyterlab->-r colab_requirements.txt (line 6)) (0.6.0)\n",
            "Requirement already satisfied: ipython>=4.0.0 in /usr/local/lib/python3.6/dist-packages (from ipykernel->notebook>=4.3.1->jupyterlab->-r colab_requirements.txt (line 6)) (5.5.0)\n",
            "Requirement already satisfied: pyzmq>=13 in /usr/local/lib/python3.6/dist-packages (from jupyter-client->notebook>=4.3.1->jupyterlab->-r colab_requirements.txt (line 6)) (17.0.0)\n",
            "Requirement already satisfied: decorator in /usr/local/lib/python3.6/dist-packages (from traitlets>=4.2.1->notebook>=4.3.1->jupyterlab->-r colab_requirements.txt (line 6)) (4.4.1)\n",
            "Requirement already satisfied: entrypoints>=0.2.2 in /usr/local/lib/python3.6/dist-packages (from nbconvert->notebook>=4.3.1->jupyterlab->-r colab_requirements.txt (line 6)) (0.3)\n",
            "Requirement already satisfied: defusedxml in /usr/local/lib/python3.6/dist-packages (from nbconvert->notebook>=4.3.1->jupyterlab->-r colab_requirements.txt (line 6)) (0.6.0)\n",
            "Requirement already satisfied: pygments in /usr/local/lib/python3.6/dist-packages (from nbconvert->notebook>=4.3.1->jupyterlab->-r colab_requirements.txt (line 6)) (2.1.3)\n",
            "Requirement already satisfied: pandocfilters>=1.4.1 in /usr/local/lib/python3.6/dist-packages (from nbconvert->notebook>=4.3.1->jupyterlab->-r colab_requirements.txt (line 6)) (1.4.2)\n",
            "Requirement already satisfied: mistune<2,>=0.8.1 in /usr/local/lib/python3.6/dist-packages (from nbconvert->notebook>=4.3.1->jupyterlab->-r colab_requirements.txt (line 6)) (0.8.4)\n",
            "Requirement already satisfied: bleach in /usr/local/lib/python3.6/dist-packages (from nbconvert->notebook>=4.3.1->jupyterlab->-r colab_requirements.txt (line 6)) (3.1.0)\n",
            "Requirement already satisfied: testpath in /usr/local/lib/python3.6/dist-packages (from nbconvert->notebook>=4.3.1->jupyterlab->-r colab_requirements.txt (line 6)) (0.4.4)\n",
            "Requirement already satisfied: importlib-metadata; python_version < \"3.8\" in /usr/local/lib/python3.6/dist-packages (from jsonschema>=3.0.1->jupyterlab-server~=1.0.0->jupyterlab->-r colab_requirements.txt (line 6)) (1.3.0)\n",
            "Requirement already satisfied: attrs>=17.4.0 in /usr/local/lib/python3.6/dist-packages (from jsonschema>=3.0.1->jupyterlab-server~=1.0.0->jupyterlab->-r colab_requirements.txt (line 6)) (19.3.0)\n",
            "Requirement already satisfied: pyrsistent>=0.14.0 in /usr/local/lib/python3.6/dist-packages (from jsonschema>=3.0.1->jupyterlab-server~=1.0.0->jupyterlab->-r colab_requirements.txt (line 6)) (0.15.6)\n",
            "Requirement already satisfied: pexpect; sys_platform != \"win32\" in /usr/local/lib/python3.6/dist-packages (from ipython>=4.0.0->ipykernel->notebook>=4.3.1->jupyterlab->-r colab_requirements.txt (line 6)) (4.7.0)\n",
            "Requirement already satisfied: prompt-toolkit<2.0.0,>=1.0.4 in /usr/local/lib/python3.6/dist-packages (from ipython>=4.0.0->ipykernel->notebook>=4.3.1->jupyterlab->-r colab_requirements.txt (line 6)) (1.0.18)\n",
            "Requirement already satisfied: pickleshare in /usr/local/lib/python3.6/dist-packages (from ipython>=4.0.0->ipykernel->notebook>=4.3.1->jupyterlab->-r colab_requirements.txt (line 6)) (0.7.5)\n",
            "Requirement already satisfied: simplegeneric>0.8 in /usr/local/lib/python3.6/dist-packages (from ipython>=4.0.0->ipykernel->notebook>=4.3.1->jupyterlab->-r colab_requirements.txt (line 6)) (0.8.1)\n",
            "Requirement already satisfied: webencodings in /usr/local/lib/python3.6/dist-packages (from bleach->nbconvert->notebook>=4.3.1->jupyterlab->-r colab_requirements.txt (line 6)) (0.5.1)\n",
            "Requirement already satisfied: zipp>=0.5 in /usr/local/lib/python3.6/dist-packages (from importlib-metadata; python_version < \"3.8\"->jsonschema>=3.0.1->jupyterlab-server~=1.0.0->jupyterlab->-r colab_requirements.txt (line 6)) (0.6.0)\n",
            "Requirement already satisfied: wcwidth in /usr/local/lib/python3.6/dist-packages (from prompt-toolkit<2.0.0,>=1.0.4->ipython>=4.0.0->ipykernel->notebook>=4.3.1->jupyterlab->-r colab_requirements.txt (line 6)) (0.1.7)\n",
            "Requirement already satisfied: more-itertools in /usr/local/lib/python3.6/dist-packages (from zipp>=0.5->importlib-metadata; python_version < \"3.8\"->jsonschema>=3.0.1->jupyterlab-server~=1.0.0->jupyterlab->-r colab_requirements.txt (line 6)) (8.0.2)\n",
            "Building wheels for collected packages: ffmpeg\n",
            "  Building wheel for ffmpeg (setup.py) ... \u001b[?25l\u001b[?25hdone\n",
            "  Created wheel for ffmpeg: filename=ffmpeg-1.4-cp36-none-any.whl size=6085 sha256=ce310b582f36d4ec711216ba1f4cc87fc6aa322bae997acfdb04a4ef3716fc61\n",
            "  Stored in directory: /root/.cache/pip/wheels/b6/68/c3/a05a35f647ba871e5572b9bbfc0b95fd1c6637a2219f959e7a\n",
            "Successfully built ffmpeg\n",
            "Installing collected packages: fastai, tensorboardX, ffmpeg, ffmpeg-python, youtube-dl, jsonschema, json5, jupyterlab-server, jupyterlab\n",
            "  Found existing installation: fastai 1.0.59\n",
            "    Uninstalling fastai-1.0.59:\n",
            "      Successfully uninstalled fastai-1.0.59\n",
            "  Found existing installation: jsonschema 2.6.0\n",
            "    Uninstalling jsonschema-2.6.0:\n",
            "      Successfully uninstalled jsonschema-2.6.0\n",
            "Successfully installed fastai-1.0.51 ffmpeg-1.4 ffmpeg-python-0.1.17 json5-0.8.5 jsonschema-3.2.0 jupyterlab-1.2.4 jupyterlab-server-1.0.6 tensorboardX-1.6 youtube-dl-2020.1.1\n"
          ],
          "name": "stdout"
        }
      ]
    },
    {
      "cell_type": "code",
      "metadata": {
        "colab_type": "code",
        "id": "MsJa69CMwj3l",
        "colab": {}
      },
      "source": [
        "import fastai\n",
        "from deoldify.visualize import *\n",
        "\n",
        "torch.backends.cudnn.benchmark = True"
      ],
      "execution_count": 0,
      "outputs": []
    },
    {
      "cell_type": "code",
      "metadata": {
        "id": "MQwQ202JGEV7",
        "colab_type": "code",
        "outputId": "529048dd-2a0d-468a-c05e-a50d55ed71f8",
        "colab": {
          "base_uri": "https://localhost:8080/",
          "height": 454
        }
      },
      "source": [
        "!mkdir 'models'\n",
        "!wget https://www.dropbox.com/s/zkehq1uwahhbc2o/ColorizeArtistic_gen.pth?dl=0 -O ./models/ColorizeArtistic_gen.pth"
      ],
      "execution_count": 7,
      "outputs": [
        {
          "output_type": "stream",
          "text": [
            "--2020-01-06 18:02:42--  https://www.dropbox.com/s/zkehq1uwahhbc2o/ColorizeArtistic_gen.pth?dl=0\n",
            "Resolving www.dropbox.com (www.dropbox.com)... 162.125.4.1, 2620:100:6019:1::a27d:401\n",
            "Connecting to www.dropbox.com (www.dropbox.com)|162.125.4.1|:443... connected.\n",
            "HTTP request sent, awaiting response... 301 Moved Permanently\n",
            "Location: /s/raw/zkehq1uwahhbc2o/ColorizeArtistic_gen.pth [following]\n",
            "--2020-01-06 18:02:42--  https://www.dropbox.com/s/raw/zkehq1uwahhbc2o/ColorizeArtistic_gen.pth\n",
            "Reusing existing connection to www.dropbox.com:443.\n",
            "HTTP request sent, awaiting response... 302 Found\n",
            "Location: https://uc9fce4208f156969e316b871f79.dl.dropboxusercontent.com/cd/0/inline/AvrRc8vWeQs7sI3GBVCLjJcRqGMUnhv2XBwoTB_sLJCLItDr75og_7SmfeUbm5eJGMG0oBbskc13qtjnnmMIl4d4b9K3BGl8pY9mnPHzG6onJw/file# [following]\n",
            "--2020-01-06 18:02:43--  https://uc9fce4208f156969e316b871f79.dl.dropboxusercontent.com/cd/0/inline/AvrRc8vWeQs7sI3GBVCLjJcRqGMUnhv2XBwoTB_sLJCLItDr75og_7SmfeUbm5eJGMG0oBbskc13qtjnnmMIl4d4b9K3BGl8pY9mnPHzG6onJw/file\n",
            "Resolving uc9fce4208f156969e316b871f79.dl.dropboxusercontent.com (uc9fce4208f156969e316b871f79.dl.dropboxusercontent.com)... 162.125.4.6, 2620:100:601b:6::a27d:806\n",
            "Connecting to uc9fce4208f156969e316b871f79.dl.dropboxusercontent.com (uc9fce4208f156969e316b871f79.dl.dropboxusercontent.com)|162.125.4.6|:443... connected.\n",
            "HTTP request sent, awaiting response... 302 FOUND\n",
            "Location: /cd/0/inline2/AvoEgxxoFO8x35kQLlq4l4Jc2v9OK4XWuoKLxeOum54kOoGTvumaXIw8tRPXOjRQhe0JZZuCbysdwcJjVb1_uroY1n39bsy6DSEJWmfAp4WptA14_FAqCjlgdZKMuPS4c8FxDq1ZOYT8GE-7NFwAAMcOTiO3io4ZoX3EUgO8ZvipXrXdzmqSKe_nEE2SX3SwPVMJ9gb_nk4P1qBOtGUzseO-K0vy-PNBHqi4clBwOwNm2AMhNWJo-efJY65zNup-e7ivczhTHA0lj9jn2C9tTCvraTuojYsm7ofBfjzgL2qGXvuZv_pxw91LEMyRRfE-Vm_DsnFi6kz8YU0o9ByFZwbi/file [following]\n",
            "--2020-01-06 18:02:43--  https://uc9fce4208f156969e316b871f79.dl.dropboxusercontent.com/cd/0/inline2/AvoEgxxoFO8x35kQLlq4l4Jc2v9OK4XWuoKLxeOum54kOoGTvumaXIw8tRPXOjRQhe0JZZuCbysdwcJjVb1_uroY1n39bsy6DSEJWmfAp4WptA14_FAqCjlgdZKMuPS4c8FxDq1ZOYT8GE-7NFwAAMcOTiO3io4ZoX3EUgO8ZvipXrXdzmqSKe_nEE2SX3SwPVMJ9gb_nk4P1qBOtGUzseO-K0vy-PNBHqi4clBwOwNm2AMhNWJo-efJY65zNup-e7ivczhTHA0lj9jn2C9tTCvraTuojYsm7ofBfjzgL2qGXvuZv_pxw91LEMyRRfE-Vm_DsnFi6kz8YU0o9ByFZwbi/file\n",
            "Reusing existing connection to uc9fce4208f156969e316b871f79.dl.dropboxusercontent.com:443.\n",
            "HTTP request sent, awaiting response... 200 OK\n",
            "Length: 255144681 (243M) [application/octet-stream]\n",
            "Saving to: ‘./models/ColorizeArtistic_gen.pth’\n",
            "\n",
            "./models/ColorizeAr 100%[===================>] 243.32M  13.6MB/s    in 13s     \n",
            "\n",
            "2020-01-06 18:02:57 (18.9 MB/s) - ‘./models/ColorizeArtistic_gen.pth’ saved [255144681/255144681]\n",
            "\n"
          ],
          "name": "stdout"
        }
      ]
    },
    {
      "cell_type": "code",
      "metadata": {
        "colab_type": "code",
        "id": "tzHVnegp21hC",
        "outputId": "d264be52-b3bb-4d87-a28a-b7f9d77902e6",
        "colab": {
          "base_uri": "https://localhost:8080/",
          "height": 853
        }
      },
      "source": [
        "colorizer = get_image_colorizer(artistic=True)"
      ],
      "execution_count": 8,
      "outputs": [
        {
          "output_type": "stream",
          "text": [
            "/usr/local/lib/python3.6/dist-packages/fastai/data_block.py:442: UserWarning: Your training set is empty. If this is by design, pass `ignore_empty=True` to remove this warning.\n",
            "  warn(\"Your training set is empty. If this is by design, pass `ignore_empty=True` to remove this warning.\")\n",
            "/usr/local/lib/python3.6/dist-packages/fastai/data_block.py:445: UserWarning: Your validation set is empty. If this is by design, use `split_none()`\n",
            "                 or pass `ignore_empty=True` when labelling to remove this warning.\n",
            "  or pass `ignore_empty=True` when labelling to remove this warning.\"\"\")\n",
            "Downloading: \"https://download.pytorch.org/models/resnet34-333f7ec4.pth\" to /root/.cache/torch/checkpoints/resnet34-333f7ec4.pth\n",
            "100%|██████████| 83.3M/83.3M [00:00<00:00, 96.8MB/s]\n",
            "/usr/local/lib/python3.6/dist-packages/torch/serialization.py:292: UserWarning: Couldn't retrieve source code for container of type Sequential. It won't be checked for correctness upon loading.\n",
            "  \"type \" + obj.__name__ + \". It won't be checked \"\n",
            "/usr/local/lib/python3.6/dist-packages/torch/serialization.py:292: UserWarning: Couldn't retrieve source code for container of type Conv2d. It won't be checked for correctness upon loading.\n",
            "  \"type \" + obj.__name__ + \". It won't be checked \"\n",
            "/usr/local/lib/python3.6/dist-packages/torch/serialization.py:292: UserWarning: Couldn't retrieve source code for container of type BatchNorm2d. It won't be checked for correctness upon loading.\n",
            "  \"type \" + obj.__name__ + \". It won't be checked \"\n",
            "/usr/local/lib/python3.6/dist-packages/torch/serialization.py:292: UserWarning: Couldn't retrieve source code for container of type ReLU. It won't be checked for correctness upon loading.\n",
            "  \"type \" + obj.__name__ + \". It won't be checked \"\n",
            "/usr/local/lib/python3.6/dist-packages/torch/serialization.py:292: UserWarning: Couldn't retrieve source code for container of type MaxPool2d. It won't be checked for correctness upon loading.\n",
            "  \"type \" + obj.__name__ + \". It won't be checked \"\n",
            "/usr/local/lib/python3.6/dist-packages/torch/serialization.py:292: UserWarning: Couldn't retrieve source code for container of type PixelShuffle. It won't be checked for correctness upon loading.\n",
            "  \"type \" + obj.__name__ + \". It won't be checked \"\n",
            "/usr/local/lib/python3.6/dist-packages/torch/serialization.py:292: UserWarning: Couldn't retrieve source code for container of type ReplicationPad2d. It won't be checked for correctness upon loading.\n",
            "  \"type \" + obj.__name__ + \". It won't be checked \"\n",
            "/usr/local/lib/python3.6/dist-packages/torch/serialization.py:292: UserWarning: Couldn't retrieve source code for container of type AvgPool2d. It won't be checked for correctness upon loading.\n",
            "  \"type \" + obj.__name__ + \". It won't be checked \"\n",
            "/usr/local/lib/python3.6/dist-packages/torch/serialization.py:292: UserWarning: Couldn't retrieve source code for container of type Conv1d. It won't be checked for correctness upon loading.\n",
            "  \"type \" + obj.__name__ + \". It won't be checked \"\n",
            "/usr/local/lib/python3.6/dist-packages/torch/serialization.py:292: UserWarning: Couldn't retrieve source code for container of type ParameterModule. It won't be checked for correctness upon loading.\n",
            "  \"type \" + obj.__name__ + \". It won't be checked \"\n",
            "/usr/local/lib/python3.6/dist-packages/torch/serialization.py:292: UserWarning: Couldn't retrieve source code for container of type MergeLayer. It won't be checked for correctness upon loading.\n",
            "  \"type \" + obj.__name__ + \". It won't be checked \"\n",
            "/usr/local/lib/python3.6/dist-packages/torch/serialization.py:292: UserWarning: Couldn't retrieve source code for container of type SigmoidRange. It won't be checked for correctness upon loading.\n",
            "  \"type \" + obj.__name__ + \". It won't be checked \"\n",
            "/usr/local/lib/python3.6/dist-packages/torch/serialization.py:292: UserWarning: Couldn't retrieve source code for container of type DynamicUnetDeep. It won't be checked for correctness upon loading.\n",
            "  \"type \" + obj.__name__ + \". It won't be checked \"\n",
            "/usr/local/lib/python3.6/dist-packages/torch/serialization.py:292: UserWarning: Couldn't retrieve source code for container of type ModuleList. It won't be checked for correctness upon loading.\n",
            "  \"type \" + obj.__name__ + \". It won't be checked \"\n",
            "/usr/local/lib/python3.6/dist-packages/torch/serialization.py:292: UserWarning: Couldn't retrieve source code for container of type BasicBlock. It won't be checked for correctness upon loading.\n",
            "  \"type \" + obj.__name__ + \". It won't be checked \"\n",
            "/usr/local/lib/python3.6/dist-packages/torch/serialization.py:292: UserWarning: Couldn't retrieve source code for container of type UnetBlockDeep. It won't be checked for correctness upon loading.\n",
            "  \"type \" + obj.__name__ + \". It won't be checked \"\n",
            "/usr/local/lib/python3.6/dist-packages/torch/serialization.py:292: UserWarning: Couldn't retrieve source code for container of type CustomPixelShuffle_ICNR. It won't be checked for correctness upon loading.\n",
            "  \"type \" + obj.__name__ + \". It won't be checked \"\n",
            "/usr/local/lib/python3.6/dist-packages/torch/serialization.py:292: UserWarning: Couldn't retrieve source code for container of type SelfAttention. It won't be checked for correctness upon loading.\n",
            "  \"type \" + obj.__name__ + \". It won't be checked \"\n",
            "/usr/local/lib/python3.6/dist-packages/torch/serialization.py:292: UserWarning: Couldn't retrieve source code for container of type PixelShuffle_ICNR. It won't be checked for correctness upon loading.\n",
            "  \"type \" + obj.__name__ + \". It won't be checked \"\n",
            "/usr/local/lib/python3.6/dist-packages/torch/serialization.py:292: UserWarning: Couldn't retrieve source code for container of type SequentialEx. It won't be checked for correctness upon loading.\n",
            "  \"type \" + obj.__name__ + \". It won't be checked \"\n"
          ],
          "name": "stderr"
        }
      ]
    },
    {
      "cell_type": "code",
      "metadata": {
        "id": "lx1KOPQlG_nU",
        "colab_type": "code",
        "outputId": "6a9cb226-d2cb-49d5-dc2c-944338e6af59",
        "colab": {
          "base_uri": "https://localhost:8080/",
          "height": 228
        }
      },
      "source": [
        "!pip install ImageHash"
      ],
      "execution_count": 9,
      "outputs": [
        {
          "output_type": "stream",
          "text": [
            "Collecting ImageHash\n",
            "\u001b[?25l  Downloading https://files.pythonhosted.org/packages/58/47/e639093d67f54e59163f9d259575a10bd16e4d0ff3bb1259ba64b9c77a42/ImageHash-4.0-py2.py3-none-any.whl (295kB)\n",
            "\r\u001b[K     |█                               | 10kB 24.6MB/s eta 0:00:01\r\u001b[K     |██▏                             | 20kB 32.3MB/s eta 0:00:01\r\u001b[K     |███▎                            | 30kB 36.9MB/s eta 0:00:01\r\u001b[K     |████▍                           | 40kB 40.7MB/s eta 0:00:01\r\u001b[K     |█████▌                          | 51kB 42.9MB/s eta 0:00:01\r\u001b[K     |██████▋                         | 61kB 47.1MB/s eta 0:00:01\r\u001b[K     |███████▊                        | 71kB 49.0MB/s eta 0:00:01\r\u001b[K     |████████▉                       | 81kB 49.9MB/s eta 0:00:01\r\u001b[K     |██████████                      | 92kB 52.8MB/s eta 0:00:01\r\u001b[K     |███████████                     | 102kB 55.5MB/s eta 0:00:01\r\u001b[K     |████████████▏                   | 112kB 55.5MB/s eta 0:00:01\r\u001b[K     |█████████████▎                  | 122kB 55.5MB/s eta 0:00:01\r\u001b[K     |██████████████▍                 | 133kB 55.5MB/s eta 0:00:01\r\u001b[K     |███████████████▌                | 143kB 55.5MB/s eta 0:00:01\r\u001b[K     |████████████████▋               | 153kB 55.5MB/s eta 0:00:01\r\u001b[K     |█████████████████▊              | 163kB 55.5MB/s eta 0:00:01\r\u001b[K     |██████████████████▉             | 174kB 55.5MB/s eta 0:00:01\r\u001b[K     |████████████████████            | 184kB 55.5MB/s eta 0:00:01\r\u001b[K     |█████████████████████           | 194kB 55.5MB/s eta 0:00:01\r\u001b[K     |██████████████████████▏         | 204kB 55.5MB/s eta 0:00:01\r\u001b[K     |███████████████████████▎        | 215kB 55.5MB/s eta 0:00:01\r\u001b[K     |████████████████████████▍       | 225kB 55.5MB/s eta 0:00:01\r\u001b[K     |█████████████████████████▌      | 235kB 55.5MB/s eta 0:00:01\r\u001b[K     |██████████████████████████▋     | 245kB 55.5MB/s eta 0:00:01\r\u001b[K     |███████████████████████████▊    | 256kB 55.5MB/s eta 0:00:01\r\u001b[K     |████████████████████████████▉   | 266kB 55.5MB/s eta 0:00:01\r\u001b[K     |██████████████████████████████  | 276kB 55.5MB/s eta 0:00:01\r\u001b[K     |███████████████████████████████ | 286kB 55.5MB/s eta 0:00:01\r\u001b[K     |████████████████████████████████| 296kB 55.5MB/s \n",
            "\u001b[?25hRequirement already satisfied: numpy in /usr/local/lib/python3.6/dist-packages (from ImageHash) (1.17.4)\n",
            "Requirement already satisfied: pillow in /usr/local/lib/python3.6/dist-packages (from ImageHash) (4.3.0)\n",
            "Requirement already satisfied: scipy in /usr/local/lib/python3.6/dist-packages (from ImageHash) (1.3.3)\n",
            "Requirement already satisfied: six in /usr/local/lib/python3.6/dist-packages (from ImageHash) (1.12.0)\n",
            "Requirement already satisfied: pywavelets in /usr/local/lib/python3.6/dist-packages (from ImageHash) (1.1.1)\n",
            "Requirement already satisfied: olefile in /usr/local/lib/python3.6/dist-packages (from pillow->ImageHash) (0.46)\n",
            "Installing collected packages: ImageHash\n",
            "Successfully installed ImageHash-4.0\n"
          ],
          "name": "stdout"
        }
      ]
    },
    {
      "cell_type": "markdown",
      "metadata": {
        "colab_type": "text",
        "id": "8mO8RsNnGEWF"
      },
      "source": [
        "#◢ Instructions"
      ]
    },
    {
      "cell_type": "markdown",
      "metadata": {
        "id": "i_TAf-FAGEWG",
        "colab_type": "text"
      },
      "source": [
        "### source_url\n",
        "Type in a url to a direct link of an image.  Usually that means they'll end in .png, .jpg, etc. NOTE: If you want to use your own image, upload it first to a site like Imgur. \n",
        "\n",
        "### render_factor\n",
        "The default value of 35 has been carefully chosen and should work -ok- for most scenarios (but probably won't be the -best-). This determines resolution at which the color portion of the image is rendered. Lower resolution will render faster, and colors also tend to look more vibrant. Older and lower quality images in particular will generally benefit by lowering the render factor. Higher render factors are often better for higher quality images, but the colors may get slightly washed out. \n",
        "\n",
        "#### How to Download a Copy\n",
        "Simply right click on the displayed image and click \"Save image as...\"!\n",
        "\n",
        "## Pro Tips\n",
        "\n",
        "You can evaluate how well the image is rendered at each render_factor by using the code at the bottom (that cell under \"See how well render_factor values perform on a frame here\"). \n",
        "\n",
        "## Troubleshooting\n",
        "If you get a 'CUDA out of memory' error, you probably have the render_factor too high."
      ]
    },
    {
      "cell_type": "markdown",
      "metadata": {
        "colab_type": "text",
        "id": "sUQrbSYipiJn"
      },
      "source": [
        "#◢ Colorize!!"
      ]
    },
    {
      "cell_type": "code",
      "metadata": {
        "id": "3xH0HRLEHO1e",
        "colab_type": "code",
        "outputId": "5e5a4b5e-e406-44c4-82f1-6e138a461095",
        "colab": {
          "base_uri": "https://localhost:8080/",
          "height": 1000
        }
      },
      "source": [
        "%%time\n",
        "\n",
        "# path to CSV file which lists the source photo URLs to colorize\n",
        "photo_csv = '/content/gdrive/My Drive/SigneBrander/photos-since-20191123.csv'\n",
        "\n",
        "import imagehash\n",
        "import io\n",
        "\n",
        "def fetch_image(image_url):\n",
        "  response = requests.get(image_url, stream=True)\n",
        "  imgdata = io.BytesIO(response.content)\n",
        "  return PIL.Image.open(imgdata).convert('RGB')\n",
        "\n",
        "def colorize(orig, render_factor=35):\n",
        "  origpath = 'orig.png'\n",
        "  orig.save(origpath)\n",
        "  colorized = colorizer.get_transformed_image(path=origpath, render_factor=render_factor)\n",
        "  return colorized\n",
        "\n",
        "\n",
        "import csv\n",
        "with open(photo_csv) as photoscsv:\n",
        "  reader = csv.reader(photoscsv)\n",
        "  for row in reader:\n",
        "    tweet_id, text, tweet_url, image_url = row\n",
        "    #if image_url == 'https://pbs.twimg.com/media/EKDvvu0XkAAj03-.jpg:large':\n",
        "    #  continue  # skip first\n",
        "    orig = fetch_image(image_url)\n",
        "    imghash = imagehash.dhash(orig)\n",
        "    if str(imghash) == '0000000000000000':\n",
        "      print(\"couldn't fetch image {} ({})\".format(tweet_id, text))\n",
        "      continue\n",
        "    imgpath = '/content/gdrive/My Drive/SigneBrander/colorized/{}.png'.format(imghash)\n",
        "    if os.path.exists(imgpath):\n",
        "      print(\"image {} {} ({}) already found\".format(tweet_id, imghash, text))\n",
        "      continue\n",
        "    print(\"colorizing {} {}: {}\".format(tweet_id, imghash, text))\n",
        "    colorized = colorize(orig, 32)\n",
        "    colorized.save(imgpath)\n",
        "    #break\n",
        "\n",
        "  "
      ],
      "execution_count": 10,
      "outputs": [
        {
          "output_type": "stream",
          "text": [
            "image 1198221105481289728 f79f9fe7e8c60ecf (Näkymä Aleksanterinkadulta, vasemmalla rohdoskauppa (1907, Kaupunginmuseo, #helsinki)) already found\n",
            "image 1198266404811747335 6f69491c07250505 (kuvanveistäjä Walter Runeberg ateljeessaan (1988, Museovirasto)) already found\n",
            "image 1198311702145765377 a4e448c081686470 (Vantaanjoki (1907, Kaupunginmuseo, #helsinki)) already found\n",
            "image 1198492895990472704 de4d4122130371ff (Pasilan huvila-alue (1912, Kaupunginmuseo, #helsinki)) already found\n",
            "image 1198583493728579596 90868d2c6cec9c9c (Vanha rautatieasema (1909, Kaupunginmuseo, #helsinki)) already found\n",
            "image 1198628792442507265 f878362763686034 (Suitian kartano (1910, Museovirasto)) already found\n",
            "image 1199217672292110336 a0dcedebece0d2e8 (Havis Amanda -suihkukaivo Kauppatorilla paljastustilaisuuden jälkeen (1908, Kaupunginmuseo, #helsinki)) already found\n",
            "image 1199262970263613442 80102080c3c0a130 (Sauna Marie-Bad (1913, Kaupunginmuseo, #helsinki)) already found\n",
            "image 1199308272668495873 f0f0b0b0c4d8f8f8 (Iso Roobertinkatu 14, 12, 10, 8, 6, 4, 2. (1907, Kaupunginmuseo, #helsinki)) already found\n",
            "image 1199353570908426241 71c7c5c34260c1e1 (Hvitträsk, kirjasto (1907, 1907-, Museovirasto)) already found\n",
            "colorizing 1199398867365744640 9084b8802548d9c4: Panoraama Kansallismuseon tornista itään (1908, Kaupunginmuseo, #helsinki)\n",
            "image 1199580073109676032 6f7b4d676765471f (Vaasankatu 29, 27, 25, 23, 21. (1912, Kaupunginmuseo, #helsinki)) already found\n",
            "colorizing 1199625358993170432 b579e0a0d4f0c9c9: Rautatientori (1909, Kaupunginmuseo, #helsinki)\n",
            "colorizing 1199670659007307776 b9fcefa380d1b1e7: Kaisaniemi (1907, Kaupunginmuseo, #helsinki)\n",
            "colorizing 1199715956404170759 e0b4b232b4141899: Ravean kartano Mietoisissa (1910 - 1911, Museovirasto)\n",
            "image 1199761257517240322 20c0c8f4f4f4f8a0 (Bulevardi 7, 9. Pihakuva. (1914, Kaupunginmuseo, #helsinki)) already found\n",
            "image 1199942448933429249 a88889c9eaeac8d4 (Huvila Toivo 49. Läntinen Viertotie (nykyinen Mannerheimintie 17). (1912, Kaupunginmuseo, #helsinki)) already found\n",
            "image 1199987746389008385 f4c0c3e7d7c6d0e0 (Korkeavuorenkatu 8, pihan puolelta (1907, Kaupunginmuseo, #helsinki)) already found\n",
            "image 1200033044440199171 f0020a4949bd8d07 (Itäinen Viertotie 55 pihan puolelta (= Hämeentie 58) (1911, Kaupunginmuseo, #helsinki)) already found\n",
            "image 1200078345154764800 eae26262c2c2a1f0 (Ravean kartano Mietoisissa (1910 - 1911, Museovirasto)) already found\n",
            "image 1200123642354552833 e0d0e0e0e0714267 (Vanha rautatieasema (1909, Kaupunginmuseo, #helsinki)) already found\n",
            "image 1200304835234598914 f0e0e0781c38e0c0 (Fredrikinkatu 32, 34 . Nähtynä Antinkadun (=Lönnrotinkatu) kulmasta (1909, Kaupunginmuseo, #helsinki)) already found\n",
            "image 1200350133860339712 f24e4d8d1d88347e (Kristianinkatu 8. - Kulmakatu 7. Kristianinkatu 6. (1907, Kaupunginmuseo, #helsinki)) already found\n",
            "image 1200395431936700417 8280c0828acae6ff (Mikonkatu 9, 11, 13, 15, 17. Vasemmalla Rautatientori (1907, Kaupunginmuseo, #helsinki)) already found\n",
            "image 1200440729597861888 7f7c7628d8f6faf8 (Pasalan kartanon rakennuksia Joroisten Järvikylässä (ennen 1920, Museovirasto)) already found\n",
            "image 1200486030513778693 84c8d8c3c5e0e0e0 (Korkeavuorenkatu 39, 41, 43, 45, 47. (1908, Kaupunginmuseo, #helsinki)) already found\n",
            "image 1200667230192709632 e3a5a4e2e5a4c2e0 (Viikki, Viikinmäki (1913, Kaupunginmuseo, #helsinki)) already found\n",
            "colorizing 1200803120281993217 f0f08c70d3f7f4d6: Ratulan kartano Artjärvellä puutarhan puolelta (1910, Museovirasto)\n",
            "image 1200848419096551425 7f36b7b098b06849 (Konstantininkatu (= Meritullinkatu ) 5, 7, 9.  Etualalla Kirkkokatu (1907, Kaupunginmuseo, #helsinki)) already found\n",
            "colorizing 1201029612979081217 f8e464d4dbed9cfd: Puolustusvalleja Kaivopuistossa. (1910, Kaupunginmuseo, #helsinki)\n",
            "image 1201074910547922944 5a0315b6999f9f9e (Hietalahden satamaa nähtynä Munkkisaaren kärjestä (1909, Kaupunginmuseo, #helsinki)) already found\n",
            "image 1201120209374994438 3637393131181a49 (Taipaleen huvila-alue, Pohjoinen Hesperiankatu 15. Pihakuva. (1930 -luku, Kaupunginmuseo, #helsinki)) already found\n",
            "image 1201165505324896256 f0f0b0b2b2d33160 (Mäntsälän Alikartano eli Frugård, sisäkuvassa förmaaki (1911, Museovirasto)) already found\n",
            "colorizing 1201210807096397824 9098d8c8c9c0f1e4: Kaisaniemi. (1912, Kaupunginmuseo, #helsinki)\n",
            "image 1201391999393419266 d0d2cec8808cd8fc (Konstantininkatu (Meritullinkatu) 21, 23, 25, 27. (1913, Kaupunginmuseo, #helsinki)) already found\n",
            "image 1201437298782621697 8c8888b0b0b0b0f0 (Bulevardi 7, 9. (1913, Kaupunginmuseo, #helsinki)) already found\n",
            "image 1201482595273445376 90616d7bd889a1cc (Lastenpäivä 13.5.1913, juhlakulkue Pohjoisella Esplanaadikadulla (11.05.1913, Kaupunginmuseo, #helsinki)) already found\n",
            "image 1201527901558059008 f0943d3c7c6afa9d (Nuhjalan kartanon kuninkaanhuone; Kalustus hankittiin Kustaa III:n vierailua varten 1789. (1911, Museovirasto)) already found\n",
            "image 1201573193590460417 02f2c6d6f33de289 (Leppäsuo (1907, Kaupunginmuseo, #helsinki)) already found\n",
            "image 1201754580368994304 e4777175797d7c7d (Mechelininkatu 3. Katurakennuksen pohjoissivu. (1930 -luku, Kaupunginmuseo, #helsinki)) already found\n",
            "image 1201799685540917248 871322e1d8f0e0c1 (Pihakuva (1930 -luku, Kaupunginmuseo, #helsinki)) already found\n",
            "image 1201844986553221120 2a223038f0cae061 (Bulevardi 3, Florinin huvimaja. (1908, Kaupunginmuseo, #helsinki)) already found\n",
            "image 1201890282654117889 c4d0e2e131e9e1d3 (Eurajoki Vuojoen kartanon kohdalla, näkymä ylävirtaan (1911, Museovirasto)) already found\n",
            "image 1201935581615448066 0f8700b1d48c34e4 (Etu-Töölö, Fjelldalin huvila-alue (1908, Kaupunginmuseo, #helsinki)) already found\n",
            "image 1202116774747156481 7039faadf6d7c566 (Hietakannas (1907, Kaupunginmuseo, #helsinki)) already found\n",
            "image 1202162074501165056 68606c6d54dcfb79 (Itäinen Papinkatu 9.  Taustalla Castréninkatu. (1911, Kaupunginmuseo, #helsinki)) already found\n",
            "image 1202207373672296454 b9dcfeecd694cdd9 (Siltavuorensatama (1907, Kaupunginmuseo, #helsinki)) already found\n",
            "colorizing 1202252670637150209 90a9a1a16060f0f8: Anolan kartano (Museovirasto)\n",
            "image 1202479163644493829 e09498d8f8f2f0e8 (Maurinkatu 4, pihan puolelta. (1907, Kaupunginmuseo, #helsinki)) already found\n",
            "image 1202524461771055104 f0faf0614b6078d6 (Itäinen Heikinkatu 9, 11, 13 (nykyisin Mannerheimintie 5, 7). (1907, Kaupunginmuseo, #helsinki)) already found\n",
            "image 1202569830970335234 e3c461e13165c547 (Bulevardi 40, kuvattu Sinebrychoffin puiston puolelta (1930 -luku, Kaupunginmuseo, #helsinki)) already found\n",
            "image 1202615062860619776 c0c2822018b9b9f0 (Urajärven kartano (1913, Museovirasto)) already found\n",
            "colorizing 1202660358680403969 d0c2ece8e0f0f0f8: Bulevardi 7, 9. Pihakuva (1913, Kaupunginmuseo, #helsinki)\n",
            "colorizing 1202841548582457345 1a2c4fcb4e485179: Huvila Etu-Töölössä. (1908, Kaupunginmuseo, #helsinki)\n",
            "image 1202886849146052608 6141c9c9c9c5d1c9 (Sauna Marie-Badin henkilökuntaa (1913, Kaupunginmuseo, #helsinki)) already found\n",
            "image 1202932148082298882 66572667ce9799c9 (Kaasulla toimivan katulyhdyn puhdistamista Konstantininkatu (Meritullinkatu) 10:n edustalla. (1912, Kaupunginmuseo, #helsinki)) already found\n",
            "colorizing 1202977445793669121 c8e8d150d1bb2963: Hahkialan kartanon puisto (1913 - 1915, Museovirasto)\n",
            "image 1203022746659295233 b2d29296f6d99e7e (Huvila Toivo 49, Läntinen Viertotie (1912, Kaupunginmuseo, #helsinki)) already found\n",
            "image 1203203937077276673 e80f06070545f0f4 (Säätytalo, Nikolainkatu (= Snellmaninkatu) 9 - 11. (1910, Kaupunginmuseo, #helsinki)) already found\n",
            "image 1203249238194475014 e1f1c6c4c4c1e9ca (Itäinen Heikinkatu 5, 3, 1 (= Mannerheimintie 1). (1908, Kaupunginmuseo, #helsinki)) already found\n",
            "colorizing 1203339833214717953 b0c8ee6458dcc961: Tjusterbyn kartano (Museovirasto)\n",
            "image 1203385130322210818 f0d1e08731acc6cb (Kulosaaren ranta Hopeasalmessa (1909, Kaupunginmuseo, #helsinki)) already found\n",
            "image 1203566325093806080 58006df971b3a53d (Siltavuorensatama (1907, Kaupunginmuseo, #helsinki)) already found\n",
            "image 1203611625216978946 4080c8deb6c0f8e0 (Vironkatu 8, 10.  Mariankatu 18. (1909, Kaupunginmuseo, #helsinki)) already found\n",
            "image 1203656923087814661 f0c86c66c7c7c6c0 (Konstantininkatu (=Meritullinkatu) 26. Liisankatu 9a, 9b, 11. (1907, Kaupunginmuseo, #helsinki)) already found\n",
            "image 1203702221059346432 e8e9b1870b597373 (Tenholan kartano Lemussa (1910 - 1911, Museovirasto)) already found\n",
            "image 1203747519802556417 7c7032f30894c49d (Ursinin kallio ja uimalaitos (1909, Kaupunginmuseo, #helsinki)) already found\n",
            "image 1203928713471107074 e0d0183694d86ab0 (Hakaniemenranta 1.  Nykyinen Hakaniemenkatu 1 - Viherniemenkatu 1. (1908, Kaupunginmuseo, #helsinki)) already found\n",
            "image 1203974014517030912 e0c0f1b0f0f0c2e2 (Vantaanjoki (1907, Kaupunginmuseo, #helsinki)) already found\n",
            "image 1204019311196721152 e92736553402c373 (Pyykinkuivatusta Kaartinpuutarhassa (=Tehtaanpuistossa) (1907, Kaupunginmuseo, #helsinki)) already found\n",
            "colorizing 1204064608149032960 f0f0e8a8e1f0e4c8: Mariantorni Monrepos'n puistossa (1912, Museovirasto)\n",
            "image 1204109906447609857 2c941a39b3350000 (Villa Arkadia pihan puolelta (1907, Kaupunginmuseo, #helsinki)) already found\n",
            "colorizing 1204291101030518784 e8c8a6b8a0f87cb4: Kivenlouhintaa Sörnäisissä. (1910, Kaupunginmuseo, #helsinki)\n",
            "image 1204336402009337856 fc72392945e3f0e6 (Pohjoisranta 16, piharakennus. (1907, Kaupunginmuseo, #helsinki)) already found\n",
            "colorizing 1204381698777108480 f8c6c720f191c2f8: Kruunuhaankatu 1, 3 (1907, Kaupunginmuseo, #helsinki)\n",
            "image 1204426996241117184 118d959191ad7971 (kuistitunnelmaa Östersundomin kartanossa (1910 - 1911, Museovirasto)) already found\n",
            "image 1204472296490098689 73f46c7363139228 (Johannes Askolinin hautapatsaan savimalli (Walter Runeberg) (1912, Kaupunginmuseo, #helsinki)) already found\n",
            "image 1204653488816500736 31399985a4b89230 (Fil. tri (1900 -luvun alku, Kaupunginmuseo, #helsinki)) already found\n",
            "image 1204744085908738048 f0e0f0d8c0e2d8d9 (Näköala Pengerpuiston paikalta Sörnäisten rantaan (1912, Kaupunginmuseo, #helsinki)) already found\n",
            "image 1204789385499004933 b8a1a1c4840e6c80 (Kankaisten kartanon puutarha Maskussa (1910-luku, Museovirasto)) already found\n",
            "image 1204832204624412673 d8f0f4a25e8ce048 (Viikki, Viikinmäki (1913, Kaupunginmuseo, #helsinki)) already found\n",
            "image 1205013378730733569 e0f8e1a0a4c4e0f0 (Merimiehenkatu 16, 14, 12, 10, 8. (1907, Kaupunginmuseo, #helsinki)) already found\n",
            "image 1205058675225899008 1c8837514d6c642c (Etu-Töölö, Fjelldalin huvila-alue (1908, Kaupunginmuseo, #helsinki)) already found\n",
            "image 1205103977110679554 b431ac68303525a1 (Töölön sokeritehtaan rakennuksia, Turuntie 5-7 (=Mannerheimintie 15) (1930 -luku, Kaupunginmuseo, #helsinki)) already found\n",
            "colorizing 1205149273828052995 a0cccd071713279c: Nya Svenska Läroverket, III luokka (1901, toukokuu, Museovirasto)\n",
            "image 1205194571812130817 07234b07736b170f (Ensimmäisten yksikamaristen valtiopäivien avajaiset 25.5.1907 (25.05.1907, Kaupunginmuseo, #helsinki)) already found\n",
            "image 1205375764721479681 f6f6fa3232f889e8 (Ruotsinkielinen kansakoulu Cygnaeusskolan, Ratakatu 8.  Oppilaita käytävässä käsien pesulla. (1913, Kaupunginmuseo, #helsinki)) already found\n",
            "image 1205421063976488960 f8dcb0a8ccf080f0 (Laulujuhlat Kaisaniemen urheilukentällä 6.- 9.6.1907 (1907, Kaupunginmuseo, #helsinki)) already found\n",
            "image 1205466362849697792 f0c1a29f8ef2be2e (Punavuorenkatu 3, 5, 7a, 7b. (1908, Kaupunginmuseo, #helsinki)) already found\n",
            "image 1205511659537735680 f8f0f4b474c4d6ec (Laukon kartano (1911, Museovirasto)) already found\n",
            "image 1205556959283425280 d0e0b0dce4e4fcb0 (Fredrikinkatu 24, 26. (1909, Kaupunginmuseo, #helsinki)) already found\n",
            "image 1205738153157517313 4c1353004c17c2d0 (Taustalla Alppikatu 9, 7.  Näköala Helsinginkatu 37:n kohdalta etelään. (1911, Kaupunginmuseo, #helsinki)) already found\n",
            "image 1205783451305218050 a0c0988c0c4ee2c2 (Ruotsinkielinen kansakoulu Cygnaeusskolan, Ratakatu 8.  Oppilaita käytävässä juoma-altaalla. (1913, Kaupunginmuseo, #helsinki)) already found\n",
            "image 1205828749834489857 c0380c198d5ed675 (Hietakannas, nykyisen Hietaniemenkadun kohdalla. (1908, Kaupunginmuseo, #helsinki)) already found\n",
            "image 1205874049445965828 f35b5a5870f0f8f8 (Kankaisten kartanon interiööri (1910-luku, Museovirasto)) already found\n",
            "image 1205919346226270208 0239010600010100 (Siltavuorensatama (1911, Kaupunginmuseo, #helsinki)) already found\n",
            "image 1206145839011368961 e8a0123848e0c040 (Sörnäisten rantatie 15, 17. Keskellä Kaikukatu (1912, Kaupunginmuseo, #helsinki)) already found\n",
            "image 1206236435172483072 c060787878697965 (Sannäsin kartano (1910, Museovirasto)) already found\n",
            "image 1206508231813718017 e8e8948cdadaf2f0 (Aleksanterinkatu 14 (Brummerin talo) pihan puolelta (1908, Kaupunginmuseo, #helsinki)) already found\n",
            "image 1206553527084027904 d8e0fcbcdcc0e3c0 (Vallila 1b (1908, Kaupunginmuseo, #helsinki)) already found\n",
            "image 1206598824892026880 6270666eaa28b0f4 (Koljonvirta, Iisalmi (1907, Museovirasto)) already found\n",
            "image 1206644125728153605 4254e6605835d042 (Kalastajia jäällä Eteläsatamassa Linnanlaiturin edustalla (1907, Kaupunginmuseo, #helsinki)) already found\n",
            "image 1206825319300100096 c656cf2a2bf672f6 (Saunakatu 6. (= Tehtaankatu 1a ). (1907, Kaupunginmuseo, #helsinki)) already found\n",
            "image 1206870616466427905 84ea2a7464013161 (Kaivokatu 10. Rakennuksessa ylilääkärin vastaanotto 13-14. Vastaanotot Talous- ja kone- sekä Liikenne- ja rataosastoille. (1930 -luku, HKM)) already found\n",
            "image 1206915915700482048 680c9989a9be72b0 (Itäinen Viertotie 17, 15, 13.  Nykyinen Hämeentie 20, 18, 16. Viides linja avattiin Itäinen Viertotie 20 :n oikealle puolelle. (1908, HKM)) already found\n",
            "colorizing 1206961212891811841 e0e0c3cbca50e226: Gustaf Mauritz Armfeltin työhuone Åminnen kartanossa (1911, Museovirasto)\n",
            "image 1207006512981401601 90e06c7c7273b786 (Töölönlahti (1912, Kaupunginmuseo, #helsinki)) already found\n",
            "image 1207187707220414466 eafef0f0d2e4f4c2 (Bulevardi 7-9 (Boulevardsgatan 7) Pihakuva. (1913, Kaupunginmuseo, #helsinki)) already found\n",
            "image 1207233004365631489 6c6a7b2774f8e081 (Bulevardi 7, 5. (1907, Kaupunginmuseo, #helsinki)) already found\n",
            "image 1207278302827876354 5e1e8c83a6d6501e (Ulriikaporinkatu (= Ullanlinnankatu) 3, 5. Taustalla Ratakatu 1c (1907, Kaupunginmuseo, #helsinki)) already found\n",
            "colorizing 1207323600862220288 c0e0c0210931b0c0: Viikin kartano Pirkkalassa (1911, Museovirasto)\n",
            "image 1207368902709256196 f0c0617df53170f1 (Jenny Florinin koti (1908, Kaupunginmuseo, #helsinki)) already found\n",
            "image 1207550093106257921 e6b83f6f64fcc0c0 (Maneesikatu 2a, 4, 2aa (= 2b). (1907, Kaupunginmuseo, #helsinki)) already found\n",
            "image 1207595394487717888 a2725c66666908c0 (Kruununhaankatu 3. - Konstantininkatu (Meritullinkatu) 31, Kruununhaankatu 1. Kadun päässä Maurinkatu 1. (1907, Kaupunginmuseo, #helsinki)) already found\n",
            "image 1207640689732988933 e8fe35353638c8d0 (Itäinen Viertotie ja Hakaniementori (1908, Kaupunginmuseo, #helsinki)) already found\n",
            "colorizing 1207685990028062723 0bbd03c3cb72263c: näkymä paloaseman tornista (1905, Museovirasto)\n",
            "image 1207731288603582464 8880046c914cd696 (Työläisten vappukulkue Senaatintorilla. (01.05.1912, Kaupunginmuseo, #helsinki)) already found\n",
            "image 1207912480728604683 344890a70e00dce7 (Mariankatu 9, 11, 13, 15, 17. (1907, Kaupunginmuseo, #helsinki)) already found\n",
            "image 1207957781048893440 0080b03171e9e254 (Uutta kivistä Pitkääsiltaa rakennetaan (1912, Kaupunginmuseo, #helsinki)) already found\n",
            "image 1208003080681332742 dce878b01a33ab08 (Pohjoissatama (1909, Kaupunginmuseo, #helsinki)) already found\n",
            "image 1208048377172238341 e0e0c2828342e8f0 (Valkealan kartano (vuonna 1920 tai sitä ennen, Museovirasto)) already found\n",
            "image 1208093675584135168 e9c9ca8401135a99 (Vanha raatihuone, juhlasali. (1912, Kaupunginmuseo, #helsinki)) already found\n",
            "image 1208274867872829440 f9a4e8fb9b79f18f (Ensimmäisten yksikamaristen valtiopäivien avajaiset 25.5.1907 (25.05.1907, Kaupunginmuseo, #helsinki)) already found\n",
            "image 1208320167501074433 d0b591a8ecbce2e0 (Albertinkatu 26, piha. (1908, Kaupunginmuseo, #helsinki)) already found\n",
            "image 1208365466542051330 a08af83cdcf08110 (Korkeavuorenkatu 32, 34, 36. (1907, Kaupunginmuseo, #helsinki)) already found\n",
            "colorizing 1208410765658603520 49495a58d0287975: Eduskunnan istunto Palokunnan talon juhlasalissa (1907, repro, Museovirasto)\n",
            "image 1208456064921931776 c4dcd9d2f2dc74b2 (Istutustöitä Katajanokan puistossa (1907, Kaupunginmuseo, #helsinki)) already found\n",
            "colorizing 1208637257172865024 707abe3eeef95c20: Unioninkatu 37.  Vanha klinikka. (1907, Kaupunginmuseo, #helsinki)\n",
            "image 1208682556570382336 868e90945ab3b8ee (Etu-Töölö, Bergan huvila-alue (1912, Kaupunginmuseo, #helsinki)) already found\n",
            "colorizing 1208727854193790981 e1d9f1e16ee8d7f3: Töölönlahti (1911, Kaupunginmuseo, #helsinki)\n",
            "image 1208773151204745216 d9d9d9d9d9c9c9d9 (Louhisaaren kartano, kattomaalauksia (Museovirasto)) already found\n",
            "image 1208818450312912901 810116b6b2725b7f (Panoraama Kansallismuseon tornista kaakkoon (1908, Kaupunginmuseo, #helsinki)) already found\n",
            "image 1208999643369095170 e0ecf0e06c2466f4 (Taivallahti (1913, Kaupunginmuseo, #helsinki)) already found\n",
            "image 1209044943823659008 d0c8c4e4c8c2c2ac (Rakentamatonta Helsinginkatua (1912, Kaupunginmuseo, #helsinki)) already found\n",
            "image 1209090241082134528 d7f7baccf4f1c0c6 (Vilhonvuorenkatu 4, 6, 8. (1908, Kaupunginmuseo, #helsinki)) already found\n",
            "image 1209135540982951937 e0e579696fc60c18 (näkymä Laukon kartanon katolta (1911, Museovirasto)) already found\n",
            "colorizing 1209180839277449218 e8ced6c1c0f0c0f0: Uudenmaankatu 8, 6, 4, 2. (1907, Kaupunginmuseo, #helsinki)\n",
            "colorizing 1209362035567452160 0000c0c0b992941b: Etu-Töölö, Bergan huvila-alue (1908, Kaupunginmuseo, #helsinki)\n",
            "image 1209407330510618624 6ce4e8f0b2a0f0f0 (Narinkka Simonkadulla. (1909, Kaupunginmuseo, #helsinki)) already found\n",
            "image 1209452630201839616 b6ce8f951ecca018 (Barkoffin luujauhotehdas (1908, Kaupunginmuseo, #helsinki)) already found\n",
            "image 1209543226169995264 868712061454c1a0 (Kaisaniemi. (1912, Kaupunginmuseo, #helsinki)) already found\n",
            "image 1212349694518661121 e59ddd747afb9b8d (Bergan huvila-alue, Berga 5.  Nykyinen Vänrikki Stoolin katu 12.  Kuvattu nykyisen Vänrikki Stoolin katu 10a:n kohdalta pohjo...(1912, HKM)) already found\n",
            "image 1212394981085925376 c0d0e62626b2a222 (Putkisalon kartano, Rantasalmen Putkisalmen kylä (ennen 1920, Museovirasto)) already found\n",
            "image 1212440280529551366 c4cccccccccccddd (Sauna Marie-Bad (1913, Kaupunginmuseo, #helsinki)) already found\n",
            "image 1212665641620115457 edce336955717137 (Huvila Sibeliuksen puistossa (1930 -luku, Kaupunginmuseo, #helsinki)) already found\n",
            "image 1212710929047142409 273500d1cbdae2be (Näkymä Erottajan paloaseman palotornista kaakkoon (1905, Kaupunginmuseo, #helsinki)) already found\n",
            "image 1212756228469858304 73e1e8c8e2f01978 (Kauttuan kartanon vanha päärakennus (1913 - 1920, Museovirasto)) already found\n",
            "image 1212801527439675394 f0e28399d9c99fb9 (Säätytalo, Nikolainkatu (Snellmaninkatu) 9 - 11, Rauhankadun puolelta nähtynä (1907, Kaupunginmuseo, #helsinki)) already found\n",
            "image 1212982719556268037 24121b918d86f1d3 (Läntinen Rantakatu (= Eteläranta ) 18, 20.  Eteläesplanadi 2. (1909, Kaupunginmuseo, #helsinki)) already found\n",
            "image 1213028019222265856 f0dcf060e4a8e0e0 (Aleksanterinkatu 52, piha. (1912, Kaupunginmuseo, #helsinki)) already found\n",
            "colorizing 1213073319244816385 f00068cc44ac4b29: Eira, etualalla Wecksellintie (1909, Kaupunginmuseo, #helsinki)\n",
            "colorizing 1213118615152734209 80c4f1f8f0e1c1c1: Eurajoki Vuojoen kartanon kohdalla, näkymä alavirtaan vedenottopaikalle (1911, Museovirasto)\n",
            "image 1213163915473014786 4c4d8da549a8c463 (Läntinen Viertotie 6. Nykyinen Eduskuntapuistikko Mannerheimintien ja Aurorankadun kulmassa (1912, Kaupunginmuseo, #helsinki)) already found\n",
            "image 1213704529029586944 e4cc8eea3e1ef8e1 (Lastenkodinkuja 2, 4. (1913, Kaupunginmuseo, #helsinki)) already found\n",
            "colorizing 1213749817173823489 b03c36b430b0f000: Fabianinkatu 22, piha (1907, Kaupunginmuseo, #helsinki)\n",
            "image 1213795116256768001 cdbdb79bddf0f2f0 (Siltasaarenkatu 4, 6, 8. (1907, Kaupunginmuseo, #helsinki)) already found\n",
            "image 1213840414354096128 0001c9410d113121 (Saaren kartanon päärakennus Tammelassa (1913 - 1920, Museovirasto)) already found\n",
            "colorizing 1213885713386803200 e6c68393971e4cc0: Siltavuorenkatu (Kirjatyöntekijänkatu) 14, 12, 10, 8, 6 (1907, Kaupunginmuseo, #helsinki)\n",
            "image 1214066906531016709 a3233b3323f7d414 (Vanha rautatieasema (1909, Kaupunginmuseo, #helsinki)) already found\n",
            "image 1214112205412671488 ec626bf8cc53130d (Heikinkatu 15 (=Mannerheimintie 9) (n. 1937, Kaupunginmuseo, #helsinki)) already found\n",
            "CPU times: user 17.7 s, sys: 8.26 s, total: 26 s\n",
            "Wall time: 51.1 s\n"
          ],
          "name": "stdout"
        }
      ]
    },
    {
      "cell_type": "code",
      "metadata": {
        "id": "0422pF88Rphv",
        "colab_type": "code",
        "colab": {}
      },
      "source": [
        ""
      ],
      "execution_count": 0,
      "outputs": []
    }
  ]
}